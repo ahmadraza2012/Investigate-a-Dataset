{
 "cells": [
  {
   "cell_type": "markdown",
   "metadata": {},
   "source": [
    "> **Tip**: Welcome to the Investigate a Dataset project! You will find tips in quoted sections like this to help organize your approach to your investigation. Before submitting your project, it will be a good idea to go back through your report and remove these sections to make the presentation of your work as tidy as possible. First things first, you might want to double-click this Markdown cell and change the title so that it reflects your dataset and investigation.\n",
    "\n",
    "# Project: Investigate TMDB 5000 Movie Dataset\n",
    "\n",
    "## Table of Contents\n",
    "<ul>\n",
    "<li><a href=\"#intro\">Introduction</a></li>\n",
    "<li><a href=\"#wrangling\">Data Wrangling</a></li>\n",
    "<li><a href=\"#eda\">Exploratory Data Analysis</a></li>\n",
    "<li><a href=\"#conclusions\">Conclusions</a></li>\n",
    "</ul>"
   ]
  },
  {
   "cell_type": "markdown",
   "metadata": {},
   "source": [
    "<a id='intro'></a>\n",
    "## Introduction\n",
    "\n",
    "> In this project I'm going to investigate [TMDB 5000 Movie Dataset](https://www.kaggle.com/tmdb/tmdb-movie-metadata?select=tmdb_5000_movies.csv). This Data new dataset uploaded on kaggle contains 5000 previously released movies record with information of movie cast, budget and revanew etc."
   ]
  },
  {
   "cell_type": "markdown",
   "metadata": {},
   "source": [
    "### Question I'll try to cover in this Data Analysis Process.\n",
    "\n",
    "1. Movies which had most and least profit in previous years.\n",
    "2. Average Profit Movies made each year.\n",
    "3. Movies with largest and lowest budget in previous years.\n",
    "4. What was the Average Votes (Rating) for all the movies.\n",
    "5. List of movies with longest and shortest duration.\n",
    "6. Average run time of a all movie in past years.\n",
    "7. Draw List of Top 10 Popular movies.\n"
   ]
  },
  {
   "cell_type": "code",
   "execution_count": 1,
   "metadata": {},
   "outputs": [],
   "source": [
    "# Use this cell to set up import statements for all of the packages that you\n",
    "#   plan to use.\n",
    "\n",
    "# Remember to include a 'magic word' so that your visualizations are plotted\n",
    "#   inline with the notebook. See this page for more:\n",
    "#   http://ipython.readthedocs.io/en/stable/interactive/magics.html\n",
    "\n",
    "#importing important files \n",
    "import pandas as pd\n",
    "import numpy as np\n",
    "import csv\n",
    "from datetime import datetime\n",
    "import matplotlib.pyplot as plt\n",
    "% matplotlib inline\n"
   ]
  },
  {
   "cell_type": "markdown",
   "metadata": {},
   "source": [
    "<a id='wrangling'></a>\n",
    "## Data Wrangling\n",
    "\n",
    "### General Properties"
   ]
  },
  {
   "cell_type": "code",
   "execution_count": 2,
   "metadata": {},
   "outputs": [
    {
     "data": {
      "text/html": [
       "<div>\n",
       "<style scoped>\n",
       "    .dataframe tbody tr th:only-of-type {\n",
       "        vertical-align: middle;\n",
       "    }\n",
       "\n",
       "    .dataframe tbody tr th {\n",
       "        vertical-align: top;\n",
       "    }\n",
       "\n",
       "    .dataframe thead th {\n",
       "        text-align: right;\n",
       "    }\n",
       "</style>\n",
       "<table border=\"1\" class=\"dataframe\">\n",
       "  <thead>\n",
       "    <tr style=\"text-align: right;\">\n",
       "      <th></th>\n",
       "      <th>budget</th>\n",
       "      <th>genres</th>\n",
       "      <th>homepage</th>\n",
       "      <th>id</th>\n",
       "      <th>keywords</th>\n",
       "      <th>original_language</th>\n",
       "      <th>original_title</th>\n",
       "      <th>overview</th>\n",
       "      <th>popularity</th>\n",
       "      <th>production_companies</th>\n",
       "      <th>production_countries</th>\n",
       "      <th>release_date</th>\n",
       "      <th>revenue</th>\n",
       "      <th>runtime</th>\n",
       "      <th>spoken_languages</th>\n",
       "      <th>status</th>\n",
       "      <th>tagline</th>\n",
       "      <th>title</th>\n",
       "      <th>vote_average</th>\n",
       "      <th>vote_count</th>\n",
       "    </tr>\n",
       "  </thead>\n",
       "  <tbody>\n",
       "    <tr>\n",
       "      <th>0</th>\n",
       "      <td>237000000</td>\n",
       "      <td>[{\"id\": 28, \"name\": \"Action\"}, {\"id\": 12, \"nam...</td>\n",
       "      <td>http://www.avatarmovie.com/</td>\n",
       "      <td>19995</td>\n",
       "      <td>[{\"id\": 1463, \"name\": \"culture clash\"}, {\"id\":...</td>\n",
       "      <td>en</td>\n",
       "      <td>Avatar</td>\n",
       "      <td>In the 22nd century, a paraplegic Marine is di...</td>\n",
       "      <td>150.437577</td>\n",
       "      <td>[{\"name\": \"Ingenious Film Partners\", \"id\": 289...</td>\n",
       "      <td>[{\"iso_3166_1\": \"US\", \"name\": \"United States o...</td>\n",
       "      <td>2009-12-10</td>\n",
       "      <td>2787965087</td>\n",
       "      <td>162.0</td>\n",
       "      <td>[{\"iso_639_1\": \"en\", \"name\": \"English\"}, {\"iso...</td>\n",
       "      <td>Released</td>\n",
       "      <td>Enter the World of Pandora.</td>\n",
       "      <td>Avatar</td>\n",
       "      <td>7.2</td>\n",
       "      <td>11800</td>\n",
       "    </tr>\n",
       "    <tr>\n",
       "      <th>1</th>\n",
       "      <td>300000000</td>\n",
       "      <td>[{\"id\": 12, \"name\": \"Adventure\"}, {\"id\": 14, \"...</td>\n",
       "      <td>http://disney.go.com/disneypictures/pirates/</td>\n",
       "      <td>285</td>\n",
       "      <td>[{\"id\": 270, \"name\": \"ocean\"}, {\"id\": 726, \"na...</td>\n",
       "      <td>en</td>\n",
       "      <td>Pirates of the Caribbean: At World's End</td>\n",
       "      <td>Captain Barbossa, long believed to be dead, ha...</td>\n",
       "      <td>139.082615</td>\n",
       "      <td>[{\"name\": \"Walt Disney Pictures\", \"id\": 2}, {\"...</td>\n",
       "      <td>[{\"iso_3166_1\": \"US\", \"name\": \"United States o...</td>\n",
       "      <td>2007-05-19</td>\n",
       "      <td>961000000</td>\n",
       "      <td>169.0</td>\n",
       "      <td>[{\"iso_639_1\": \"en\", \"name\": \"English\"}]</td>\n",
       "      <td>Released</td>\n",
       "      <td>At the end of the world, the adventure begins.</td>\n",
       "      <td>Pirates of the Caribbean: At World's End</td>\n",
       "      <td>6.9</td>\n",
       "      <td>4500</td>\n",
       "    </tr>\n",
       "  </tbody>\n",
       "</table>\n",
       "</div>"
      ],
      "text/plain": [
       "      budget                                             genres  \\\n",
       "0  237000000  [{\"id\": 28, \"name\": \"Action\"}, {\"id\": 12, \"nam...   \n",
       "1  300000000  [{\"id\": 12, \"name\": \"Adventure\"}, {\"id\": 14, \"...   \n",
       "\n",
       "                                       homepage     id  \\\n",
       "0                   http://www.avatarmovie.com/  19995   \n",
       "1  http://disney.go.com/disneypictures/pirates/    285   \n",
       "\n",
       "                                            keywords original_language  \\\n",
       "0  [{\"id\": 1463, \"name\": \"culture clash\"}, {\"id\":...                en   \n",
       "1  [{\"id\": 270, \"name\": \"ocean\"}, {\"id\": 726, \"na...                en   \n",
       "\n",
       "                             original_title  \\\n",
       "0                                    Avatar   \n",
       "1  Pirates of the Caribbean: At World's End   \n",
       "\n",
       "                                            overview  popularity  \\\n",
       "0  In the 22nd century, a paraplegic Marine is di...  150.437577   \n",
       "1  Captain Barbossa, long believed to be dead, ha...  139.082615   \n",
       "\n",
       "                                production_companies  \\\n",
       "0  [{\"name\": \"Ingenious Film Partners\", \"id\": 289...   \n",
       "1  [{\"name\": \"Walt Disney Pictures\", \"id\": 2}, {\"...   \n",
       "\n",
       "                                production_countries release_date     revenue  \\\n",
       "0  [{\"iso_3166_1\": \"US\", \"name\": \"United States o...   2009-12-10  2787965087   \n",
       "1  [{\"iso_3166_1\": \"US\", \"name\": \"United States o...   2007-05-19   961000000   \n",
       "\n",
       "   runtime                                   spoken_languages    status  \\\n",
       "0    162.0  [{\"iso_639_1\": \"en\", \"name\": \"English\"}, {\"iso...  Released   \n",
       "1    169.0           [{\"iso_639_1\": \"en\", \"name\": \"English\"}]  Released   \n",
       "\n",
       "                                          tagline  \\\n",
       "0                     Enter the World of Pandora.   \n",
       "1  At the end of the world, the adventure begins.   \n",
       "\n",
       "                                      title  vote_average  vote_count  \n",
       "0                                    Avatar           7.2       11800  \n",
       "1  Pirates of the Caribbean: At World's End           6.9        4500  "
      ]
     },
     "execution_count": 2,
     "metadata": {},
     "output_type": "execute_result"
    }
   ],
   "source": [
    "# Load your data and print out a few lines. Perform operations to inspect data\n",
    "#   types and look for instances of missing or possibly errant data.\n",
    "\n",
    "df = pd.read_csv('movies.csv')\n",
    "df.head(2)"
   ]
  },
  {
   "cell_type": "code",
   "execution_count": 3,
   "metadata": {},
   "outputs": [
    {
     "name": "stdout",
     "output_type": "stream",
     "text": [
      "<class 'pandas.core.frame.DataFrame'>\n",
      "RangeIndex: 4803 entries, 0 to 4802\n",
      "Data columns (total 20 columns):\n",
      "budget                  4803 non-null int64\n",
      "genres                  4803 non-null object\n",
      "homepage                1712 non-null object\n",
      "id                      4803 non-null int64\n",
      "keywords                4803 non-null object\n",
      "original_language       4803 non-null object\n",
      "original_title          4803 non-null object\n",
      "overview                4800 non-null object\n",
      "popularity              4803 non-null float64\n",
      "production_companies    4803 non-null object\n",
      "production_countries    4803 non-null object\n",
      "release_date            4802 non-null object\n",
      "revenue                 4803 non-null int64\n",
      "runtime                 4801 non-null float64\n",
      "spoken_languages        4803 non-null object\n",
      "status                  4803 non-null object\n",
      "tagline                 3959 non-null object\n",
      "title                   4803 non-null object\n",
      "vote_average            4803 non-null float64\n",
      "vote_count              4803 non-null int64\n",
      "dtypes: float64(3), int64(4), object(13)\n",
      "memory usage: 750.5+ KB\n"
     ]
    }
   ],
   "source": [
    "df.info()"
   ]
  },
  {
   "cell_type": "markdown",
   "metadata": {},
   "source": [
    "### Observations from the Data Set.\n",
    "1. There are some extra columns which can be removed like `homepage`, `id`, `keywords`, `overview`, `tagline`, `vote_count`, `original_title`, `spoken_languages`, `production_countries`,`production_companies`, `original_language`, `genres` etc.\n",
    "2. I searched on Kaggle website about the default currency of revanew for each movie but this information is missing. So I'm assuming default currency is US Dollar for this Dataset."
   ]
  },
  {
   "cell_type": "markdown",
   "metadata": {},
   "source": [
    "\n",
    "### Data Cleaning"
   ]
  },
  {
   "cell_type": "markdown",
   "metadata": {},
   "source": [
    "#### Remove Extra Columns.\n",
    "homepage, id, keywords, overview, tagline, vote_count, orignal_title, popularity"
   ]
  },
  {
   "cell_type": "code",
   "execution_count": 4,
   "metadata": {},
   "outputs": [
    {
     "data": {
      "text/html": [
       "<div>\n",
       "<style scoped>\n",
       "    .dataframe tbody tr th:only-of-type {\n",
       "        vertical-align: middle;\n",
       "    }\n",
       "\n",
       "    .dataframe tbody tr th {\n",
       "        vertical-align: top;\n",
       "    }\n",
       "\n",
       "    .dataframe thead th {\n",
       "        text-align: right;\n",
       "    }\n",
       "</style>\n",
       "<table border=\"1\" class=\"dataframe\">\n",
       "  <thead>\n",
       "    <tr style=\"text-align: right;\">\n",
       "      <th></th>\n",
       "      <th>budget</th>\n",
       "      <th>popularity</th>\n",
       "      <th>release_date</th>\n",
       "      <th>revenue</th>\n",
       "      <th>runtime</th>\n",
       "      <th>status</th>\n",
       "      <th>title</th>\n",
       "      <th>vote_average</th>\n",
       "    </tr>\n",
       "  </thead>\n",
       "  <tbody>\n",
       "    <tr>\n",
       "      <th>0</th>\n",
       "      <td>237000000</td>\n",
       "      <td>150.437577</td>\n",
       "      <td>2009-12-10</td>\n",
       "      <td>2787965087</td>\n",
       "      <td>162.0</td>\n",
       "      <td>Released</td>\n",
       "      <td>Avatar</td>\n",
       "      <td>7.2</td>\n",
       "    </tr>\n",
       "    <tr>\n",
       "      <th>1</th>\n",
       "      <td>300000000</td>\n",
       "      <td>139.082615</td>\n",
       "      <td>2007-05-19</td>\n",
       "      <td>961000000</td>\n",
       "      <td>169.0</td>\n",
       "      <td>Released</td>\n",
       "      <td>Pirates of the Caribbean: At World's End</td>\n",
       "      <td>6.9</td>\n",
       "    </tr>\n",
       "  </tbody>\n",
       "</table>\n",
       "</div>"
      ],
      "text/plain": [
       "      budget  popularity release_date     revenue  runtime    status  \\\n",
       "0  237000000  150.437577   2009-12-10  2787965087    162.0  Released   \n",
       "1  300000000  139.082615   2007-05-19   961000000    169.0  Released   \n",
       "\n",
       "                                      title  vote_average  \n",
       "0                                    Avatar           7.2  \n",
       "1  Pirates of the Caribbean: At World's End           6.9  "
      ]
     },
     "execution_count": 4,
     "metadata": {},
     "output_type": "execute_result"
    }
   ],
   "source": [
    "extra_columns = ['homepage', 'id', 'keywords', 'overview', 'tagline', 'vote_count', 'original_title', 'spoken_languages', 'production_countries','production_companies','original_language', 'genres']\n",
    "df.drop(extra_columns, axis=1, inplace=True)\n",
    "df.head(2)"
   ]
  },
  {
   "cell_type": "markdown",
   "metadata": {},
   "source": [
    "#### Now We will Filter movies by status = Released then Remove Column status."
   ]
  },
  {
   "cell_type": "code",
   "execution_count": 5,
   "metadata": {},
   "outputs": [],
   "source": [
    "df= df.query(\"status == 'Released' \")\n",
    "df.drop(['status'], axis=1, inplace=True)"
   ]
  },
  {
   "cell_type": "code",
   "execution_count": 6,
   "metadata": {},
   "outputs": [
    {
     "name": "stdout",
     "output_type": "stream",
     "text": [
      "<class 'pandas.core.frame.DataFrame'>\n",
      "Int64Index: 4795 entries, 0 to 4802\n",
      "Data columns (total 7 columns):\n",
      "budget          4795 non-null int64\n",
      "popularity      4795 non-null float64\n",
      "release_date    4794 non-null object\n",
      "revenue         4795 non-null int64\n",
      "runtime         4793 non-null float64\n",
      "title           4795 non-null object\n",
      "vote_average    4795 non-null float64\n",
      "dtypes: float64(3), int64(2), object(2)\n",
      "memory usage: 299.7+ KB\n"
     ]
    }
   ],
   "source": [
    "df.info()"
   ]
  },
  {
   "cell_type": "markdown",
   "metadata": {},
   "source": [
    "#### Now we will perform more cleaning step.\n",
    "1. Find Duplicates and delete them.\n",
    "2. Replace missing values.\n",
    "3. Find Incorrect DataTypes and convert them into correct DataTypes.\n",
    "4. Remove those movies where budget is 0. \n",
    "5. Remove those movies where runtime is 0. \n",
    "6. Remove those movies where revenue is 0. "
   ]
  },
  {
   "cell_type": "code",
   "execution_count": 7,
   "metadata": {},
   "outputs": [
    {
     "data": {
      "text/plain": [
       "0"
      ]
     },
     "execution_count": 7,
     "metadata": {},
     "output_type": "execute_result"
    }
   ],
   "source": [
    "# Find Duplicates and delete them.\n",
    "sum(df.duplicated())"
   ]
  },
  {
   "cell_type": "markdown",
   "metadata": {},
   "source": [
    "Since we don't have any duplidate values in the dataset so we don't need to remove any row from dataset."
   ]
  },
  {
   "cell_type": "code",
   "execution_count": 8,
   "metadata": {},
   "outputs": [
    {
     "data": {
      "text/plain": [
       "3"
      ]
     },
     "execution_count": 8,
     "metadata": {},
     "output_type": "execute_result"
    }
   ],
   "source": [
    "# Find rows with Null or NAN values\n",
    "df.isnull().sum().sum()"
   ]
  },
  {
   "cell_type": "code",
   "execution_count": 9,
   "metadata": {},
   "outputs": [],
   "source": [
    "# Drop Nul and NaN rows.\n",
    "df.dropna(inplace= True)\n"
   ]
  },
  {
   "cell_type": "code",
   "execution_count": 10,
   "metadata": {},
   "outputs": [
    {
     "name": "stdout",
     "output_type": "stream",
     "text": [
      "<class 'pandas.core.frame.DataFrame'>\n",
      "Int64Index: 4792 entries, 0 to 4802\n",
      "Data columns (total 7 columns):\n",
      "budget          4792 non-null int64\n",
      "popularity      4792 non-null float64\n",
      "release_date    4792 non-null object\n",
      "revenue         4792 non-null int64\n",
      "runtime         4792 non-null float64\n",
      "title           4792 non-null object\n",
      "vote_average    4792 non-null float64\n",
      "dtypes: float64(3), int64(2), object(2)\n",
      "memory usage: 299.5+ KB\n"
     ]
    }
   ],
   "source": [
    "#Check DataTypes.\n",
    "df.info()"
   ]
  },
  {
   "cell_type": "markdown",
   "metadata": {},
   "source": [
    "As we can see datatype for `release_date` is `object` which should be `date` datatype. "
   ]
  },
  {
   "cell_type": "code",
   "execution_count": 11,
   "metadata": {},
   "outputs": [
    {
     "name": "stdout",
     "output_type": "stream",
     "text": [
      "<class 'pandas.core.frame.DataFrame'>\n",
      "Int64Index: 4792 entries, 0 to 4802\n",
      "Data columns (total 7 columns):\n",
      "budget          4792 non-null int64\n",
      "popularity      4792 non-null float64\n",
      "release_date    4792 non-null datetime64[ns]\n",
      "revenue         4792 non-null int64\n",
      "runtime         4792 non-null float64\n",
      "title           4792 non-null object\n",
      "vote_average    4792 non-null float64\n",
      "dtypes: datetime64[ns](1), float64(3), int64(2), object(1)\n",
      "memory usage: 299.5+ KB\n"
     ]
    }
   ],
   "source": [
    "# Convert releaste_date column datatype from object to datetime object.\n",
    "df[\"release_date\"]= pd.to_datetime(df[\"release_date\"])\n",
    "df.info()"
   ]
  },
  {
   "cell_type": "code",
   "execution_count": 12,
   "metadata": {},
   "outputs": [
    {
     "data": {
      "text/html": [
       "<div>\n",
       "<style scoped>\n",
       "    .dataframe tbody tr th:only-of-type {\n",
       "        vertical-align: middle;\n",
       "    }\n",
       "\n",
       "    .dataframe tbody tr th {\n",
       "        vertical-align: top;\n",
       "    }\n",
       "\n",
       "    .dataframe thead th {\n",
       "        text-align: right;\n",
       "    }\n",
       "</style>\n",
       "<table border=\"1\" class=\"dataframe\">\n",
       "  <thead>\n",
       "    <tr style=\"text-align: right;\">\n",
       "      <th></th>\n",
       "      <th>budget</th>\n",
       "      <th>popularity</th>\n",
       "      <th>release_date</th>\n",
       "      <th>revenue</th>\n",
       "      <th>runtime</th>\n",
       "      <th>title</th>\n",
       "      <th>vote_average</th>\n",
       "    </tr>\n",
       "  </thead>\n",
       "  <tbody>\n",
       "    <tr>\n",
       "      <th>0</th>\n",
       "      <td>237000000</td>\n",
       "      <td>150.437577</td>\n",
       "      <td>2009-12-10</td>\n",
       "      <td>2787965087</td>\n",
       "      <td>162.0</td>\n",
       "      <td>Avatar</td>\n",
       "      <td>7.2</td>\n",
       "    </tr>\n",
       "    <tr>\n",
       "      <th>1</th>\n",
       "      <td>300000000</td>\n",
       "      <td>139.082615</td>\n",
       "      <td>2007-05-19</td>\n",
       "      <td>961000000</td>\n",
       "      <td>169.0</td>\n",
       "      <td>Pirates of the Caribbean: At World's End</td>\n",
       "      <td>6.9</td>\n",
       "    </tr>\n",
       "    <tr>\n",
       "      <th>2</th>\n",
       "      <td>245000000</td>\n",
       "      <td>107.376788</td>\n",
       "      <td>2015-10-26</td>\n",
       "      <td>880674609</td>\n",
       "      <td>148.0</td>\n",
       "      <td>Spectre</td>\n",
       "      <td>6.3</td>\n",
       "    </tr>\n",
       "    <tr>\n",
       "      <th>3</th>\n",
       "      <td>250000000</td>\n",
       "      <td>112.312950</td>\n",
       "      <td>2012-07-16</td>\n",
       "      <td>1084939099</td>\n",
       "      <td>165.0</td>\n",
       "      <td>The Dark Knight Rises</td>\n",
       "      <td>7.6</td>\n",
       "    </tr>\n",
       "    <tr>\n",
       "      <th>4</th>\n",
       "      <td>260000000</td>\n",
       "      <td>43.926995</td>\n",
       "      <td>2012-03-07</td>\n",
       "      <td>284139100</td>\n",
       "      <td>132.0</td>\n",
       "      <td>John Carter</td>\n",
       "      <td>6.1</td>\n",
       "    </tr>\n",
       "  </tbody>\n",
       "</table>\n",
       "</div>"
      ],
      "text/plain": [
       "      budget  popularity release_date     revenue  runtime  \\\n",
       "0  237000000  150.437577   2009-12-10  2787965087    162.0   \n",
       "1  300000000  139.082615   2007-05-19   961000000    169.0   \n",
       "2  245000000  107.376788   2015-10-26   880674609    148.0   \n",
       "3  250000000  112.312950   2012-07-16  1084939099    165.0   \n",
       "4  260000000   43.926995   2012-03-07   284139100    132.0   \n",
       "\n",
       "                                      title  vote_average  \n",
       "0                                    Avatar           7.2  \n",
       "1  Pirates of the Caribbean: At World's End           6.9  \n",
       "2                                   Spectre           6.3  \n",
       "3                     The Dark Knight Rises           7.6  \n",
       "4                               John Carter           6.1  "
      ]
     },
     "execution_count": 12,
     "metadata": {},
     "output_type": "execute_result"
    }
   ],
   "source": [
    "df.head()"
   ]
  },
  {
   "cell_type": "code",
   "execution_count": 13,
   "metadata": {},
   "outputs": [
    {
     "data": {
      "text/html": [
       "<div>\n",
       "<style scoped>\n",
       "    .dataframe tbody tr th:only-of-type {\n",
       "        vertical-align: middle;\n",
       "    }\n",
       "\n",
       "    .dataframe tbody tr th {\n",
       "        vertical-align: top;\n",
       "    }\n",
       "\n",
       "    .dataframe thead th {\n",
       "        text-align: right;\n",
       "    }\n",
       "</style>\n",
       "<table border=\"1\" class=\"dataframe\">\n",
       "  <thead>\n",
       "    <tr style=\"text-align: right;\">\n",
       "      <th></th>\n",
       "      <th>budget</th>\n",
       "      <th>popularity</th>\n",
       "      <th>release_date</th>\n",
       "      <th>revenue</th>\n",
       "      <th>runtime</th>\n",
       "      <th>title</th>\n",
       "      <th>vote_average</th>\n",
       "    </tr>\n",
       "  </thead>\n",
       "  <tbody>\n",
       "    <tr>\n",
       "      <th>265</th>\n",
       "      <td>0</td>\n",
       "      <td>18.251129</td>\n",
       "      <td>2003-11-21</td>\n",
       "      <td>0</td>\n",
       "      <td>82.0</td>\n",
       "      <td>The Cat in the Hat</td>\n",
       "      <td>4.9</td>\n",
       "    </tr>\n",
       "    <tr>\n",
       "      <th>321</th>\n",
       "      <td>0</td>\n",
       "      <td>16.460356</td>\n",
       "      <td>2012-08-09</td>\n",
       "      <td>104907746</td>\n",
       "      <td>85.0</td>\n",
       "      <td>The Campaign</td>\n",
       "      <td>5.6</td>\n",
       "    </tr>\n",
       "    <tr>\n",
       "      <th>359</th>\n",
       "      <td>0</td>\n",
       "      <td>27.867368</td>\n",
       "      <td>2015-12-17</td>\n",
       "      <td>233755553</td>\n",
       "      <td>92.0</td>\n",
       "      <td>Alvin and the Chipmunks: The Road Chip</td>\n",
       "      <td>5.8</td>\n",
       "    </tr>\n",
       "    <tr>\n",
       "      <th>406</th>\n",
       "      <td>0</td>\n",
       "      <td>19.836830</td>\n",
       "      <td>2011-02-22</td>\n",
       "      <td>0</td>\n",
       "      <td>97.0</td>\n",
       "      <td>Arthur Christmas</td>\n",
       "      <td>6.7</td>\n",
       "    </tr>\n",
       "    <tr>\n",
       "      <th>409</th>\n",
       "      <td>0</td>\n",
       "      <td>5.159407</td>\n",
       "      <td>1979-12-20</td>\n",
       "      <td>37823676</td>\n",
       "      <td>123.0</td>\n",
       "      <td>All That Jazz</td>\n",
       "      <td>7.3</td>\n",
       "    </tr>\n",
       "  </tbody>\n",
       "</table>\n",
       "</div>"
      ],
      "text/plain": [
       "     budget  popularity release_date    revenue  runtime  \\\n",
       "265       0   18.251129   2003-11-21          0     82.0   \n",
       "321       0   16.460356   2012-08-09  104907746     85.0   \n",
       "359       0   27.867368   2015-12-17  233755553     92.0   \n",
       "406       0   19.836830   2011-02-22          0     97.0   \n",
       "409       0    5.159407   1979-12-20   37823676    123.0   \n",
       "\n",
       "                                      title  vote_average  \n",
       "265                      The Cat in the Hat           4.9  \n",
       "321                            The Campaign           5.6  \n",
       "359  Alvin and the Chipmunks: The Road Chip           5.8  \n",
       "406                        Arthur Christmas           6.7  \n",
       "409                           All That Jazz           7.3  "
      ]
     },
     "execution_count": 13,
     "metadata": {},
     "output_type": "execute_result"
    }
   ],
   "source": [
    "# check for thoese movies where budget was zero.\n",
    "zaro_budget = df.query(\"budget == 0 \")\n",
    "zaro_budget.head(5)"
   ]
  },
  {
   "cell_type": "code",
   "execution_count": 14,
   "metadata": {},
   "outputs": [
    {
     "data": {
      "text/plain": [
       "(3761, 7)"
      ]
     },
     "execution_count": 14,
     "metadata": {},
     "output_type": "execute_result"
    }
   ],
   "source": [
    "df = df[df.budget > 0]\n",
    "df.shape"
   ]
  },
  {
   "cell_type": "code",
   "execution_count": 15,
   "metadata": {},
   "outputs": [
    {
     "data": {
      "text/html": [
       "<div>\n",
       "<style scoped>\n",
       "    .dataframe tbody tr th:only-of-type {\n",
       "        vertical-align: middle;\n",
       "    }\n",
       "\n",
       "    .dataframe tbody tr th {\n",
       "        vertical-align: top;\n",
       "    }\n",
       "\n",
       "    .dataframe thead th {\n",
       "        text-align: right;\n",
       "    }\n",
       "</style>\n",
       "<table border=\"1\" class=\"dataframe\">\n",
       "  <thead>\n",
       "    <tr style=\"text-align: right;\">\n",
       "      <th></th>\n",
       "      <th>budget</th>\n",
       "      <th>popularity</th>\n",
       "      <th>release_date</th>\n",
       "      <th>revenue</th>\n",
       "      <th>runtime</th>\n",
       "      <th>title</th>\n",
       "      <th>vote_average</th>\n",
       "    </tr>\n",
       "  </thead>\n",
       "  <tbody>\n",
       "  </tbody>\n",
       "</table>\n",
       "</div>"
      ],
      "text/plain": [
       "Empty DataFrame\n",
       "Columns: [budget, popularity, release_date, revenue, runtime, title, vote_average]\n",
       "Index: []"
      ]
     },
     "execution_count": 15,
     "metadata": {},
     "output_type": "execute_result"
    }
   ],
   "source": [
    "# Verify ravenew= 0 rows removed or not?\n",
    "zaro_budget = df.query(\"budget == 0 \")\n",
    "zaro_budget"
   ]
  },
  {
   "cell_type": "code",
   "execution_count": 16,
   "metadata": {},
   "outputs": [
    {
     "data": {
      "text/html": [
       "<div>\n",
       "<style scoped>\n",
       "    .dataframe tbody tr th:only-of-type {\n",
       "        vertical-align: middle;\n",
       "    }\n",
       "\n",
       "    .dataframe tbody tr th {\n",
       "        vertical-align: top;\n",
       "    }\n",
       "\n",
       "    .dataframe thead th {\n",
       "        text-align: right;\n",
       "    }\n",
       "</style>\n",
       "<table border=\"1\" class=\"dataframe\">\n",
       "  <thead>\n",
       "    <tr style=\"text-align: right;\">\n",
       "      <th></th>\n",
       "      <th>budget</th>\n",
       "      <th>popularity</th>\n",
       "      <th>release_date</th>\n",
       "      <th>revenue</th>\n",
       "      <th>runtime</th>\n",
       "      <th>title</th>\n",
       "      <th>vote_average</th>\n",
       "    </tr>\n",
       "  </thead>\n",
       "  <tbody>\n",
       "    <tr>\n",
       "      <th>3809</th>\n",
       "      <td>4000000</td>\n",
       "      <td>1.923514</td>\n",
       "      <td>2012-07-21</td>\n",
       "      <td>0</td>\n",
       "      <td>0.0</td>\n",
       "      <td>How to Fall in Love</td>\n",
       "      <td>5.2</td>\n",
       "    </tr>\n",
       "    <tr>\n",
       "      <th>4241</th>\n",
       "      <td>1500000</td>\n",
       "      <td>2.028170</td>\n",
       "      <td>2005-01-13</td>\n",
       "      <td>0</td>\n",
       "      <td>0.0</td>\n",
       "      <td>The Salon</td>\n",
       "      <td>3.5</td>\n",
       "    </tr>\n",
       "  </tbody>\n",
       "</table>\n",
       "</div>"
      ],
      "text/plain": [
       "       budget  popularity release_date  revenue  runtime                title  \\\n",
       "3809  4000000    1.923514   2012-07-21        0      0.0  How to Fall in Love   \n",
       "4241  1500000    2.028170   2005-01-13        0      0.0            The Salon   \n",
       "\n",
       "      vote_average  \n",
       "3809           5.2  \n",
       "4241           3.5  "
      ]
     },
     "execution_count": 16,
     "metadata": {},
     "output_type": "execute_result"
    }
   ],
   "source": [
    "#Check movies with zero run time.\n",
    "zero_runtime = df.query(\"runtime <= 0\")\n",
    "zero_runtime"
   ]
  },
  {
   "cell_type": "code",
   "execution_count": 17,
   "metadata": {},
   "outputs": [
    {
     "data": {
      "text/plain": [
       "(3759, 7)"
      ]
     },
     "execution_count": 17,
     "metadata": {},
     "output_type": "execute_result"
    }
   ],
   "source": [
    "# Remove movies with zero run time.\n",
    "df = df[df.runtime > 0]\n",
    "df.shape"
   ]
  },
  {
   "cell_type": "code",
   "execution_count": 18,
   "metadata": {},
   "outputs": [
    {
     "data": {
      "text/html": [
       "<div>\n",
       "<style scoped>\n",
       "    .dataframe tbody tr th:only-of-type {\n",
       "        vertical-align: middle;\n",
       "    }\n",
       "\n",
       "    .dataframe tbody tr th {\n",
       "        vertical-align: top;\n",
       "    }\n",
       "\n",
       "    .dataframe thead th {\n",
       "        text-align: right;\n",
       "    }\n",
       "</style>\n",
       "<table border=\"1\" class=\"dataframe\">\n",
       "  <thead>\n",
       "    <tr style=\"text-align: right;\">\n",
       "      <th></th>\n",
       "      <th>budget</th>\n",
       "      <th>popularity</th>\n",
       "      <th>release_date</th>\n",
       "      <th>revenue</th>\n",
       "      <th>runtime</th>\n",
       "      <th>title</th>\n",
       "      <th>vote_average</th>\n",
       "    </tr>\n",
       "  </thead>\n",
       "  <tbody>\n",
       "    <tr>\n",
       "      <th>83</th>\n",
       "      <td>27000000</td>\n",
       "      <td>2.418535</td>\n",
       "      <td>2015-02-13</td>\n",
       "      <td>0</td>\n",
       "      <td>109.0</td>\n",
       "      <td>The Lovers</td>\n",
       "      <td>4.8</td>\n",
       "    </tr>\n",
       "    <tr>\n",
       "      <th>135</th>\n",
       "      <td>150000000</td>\n",
       "      <td>21.214571</td>\n",
       "      <td>2010-02-11</td>\n",
       "      <td>0</td>\n",
       "      <td>102.0</td>\n",
       "      <td>The Wolfman</td>\n",
       "      <td>5.5</td>\n",
       "    </tr>\n",
       "    <tr>\n",
       "      <th>309</th>\n",
       "      <td>84000000</td>\n",
       "      <td>17.815595</td>\n",
       "      <td>2005-02-18</td>\n",
       "      <td>0</td>\n",
       "      <td>94.0</td>\n",
       "      <td>Son of the Mask</td>\n",
       "      <td>3.6</td>\n",
       "    </tr>\n",
       "    <tr>\n",
       "      <th>376</th>\n",
       "      <td>90000000</td>\n",
       "      <td>19.836124</td>\n",
       "      <td>1997-04-25</td>\n",
       "      <td>0</td>\n",
       "      <td>104.0</td>\n",
       "      <td>Volcano</td>\n",
       "      <td>5.2</td>\n",
       "    </tr>\n",
       "    <tr>\n",
       "      <th>433</th>\n",
       "      <td>84000000</td>\n",
       "      <td>44.343330</td>\n",
       "      <td>2013-07-18</td>\n",
       "      <td>0</td>\n",
       "      <td>116.0</td>\n",
       "      <td>RED 2</td>\n",
       "      <td>6.4</td>\n",
       "    </tr>\n",
       "    <tr>\n",
       "      <th>467</th>\n",
       "      <td>90000000</td>\n",
       "      <td>6.643778</td>\n",
       "      <td>1998-12-25</td>\n",
       "      <td>0</td>\n",
       "      <td>114.0</td>\n",
       "      <td>Mighty Joe Young</td>\n",
       "      <td>5.9</td>\n",
       "    </tr>\n",
       "    <tr>\n",
       "      <th>471</th>\n",
       "      <td>85000000</td>\n",
       "      <td>18.335992</td>\n",
       "      <td>2000-11-10</td>\n",
       "      <td>0</td>\n",
       "      <td>90.0</td>\n",
       "      <td>Little Nicky</td>\n",
       "      <td>5.2</td>\n",
       "    </tr>\n",
       "    <tr>\n",
       "      <th>492</th>\n",
       "      <td>8000000</td>\n",
       "      <td>0.719996</td>\n",
       "      <td>2015-10-30</td>\n",
       "      <td>0</td>\n",
       "      <td>89.0</td>\n",
       "      <td>Top Cat Begins</td>\n",
       "      <td>5.3</td>\n",
       "    </tr>\n",
       "    <tr>\n",
       "      <th>518</th>\n",
       "      <td>75000000</td>\n",
       "      <td>17.561955</td>\n",
       "      <td>1999-07-23</td>\n",
       "      <td>0</td>\n",
       "      <td>78.0</td>\n",
       "      <td>Inspector Gadget</td>\n",
       "      <td>4.3</td>\n",
       "    </tr>\n",
       "    <tr>\n",
       "      <th>536</th>\n",
       "      <td>75000000</td>\n",
       "      <td>13.327372</td>\n",
       "      <td>1999-12-16</td>\n",
       "      <td>0</td>\n",
       "      <td>148.0</td>\n",
       "      <td>Anna and the King</td>\n",
       "      <td>6.4</td>\n",
       "    </tr>\n",
       "    <tr>\n",
       "      <th>648</th>\n",
       "      <td>65000000</td>\n",
       "      <td>19.718544</td>\n",
       "      <td>2003-12-19</td>\n",
       "      <td>0</td>\n",
       "      <td>117.0</td>\n",
       "      <td>Mona Lisa Smile</td>\n",
       "      <td>6.5</td>\n",
       "    </tr>\n",
       "    <tr>\n",
       "      <th>656</th>\n",
       "      <td>65000000</td>\n",
       "      <td>9.110247</td>\n",
       "      <td>1998-03-20</td>\n",
       "      <td>0</td>\n",
       "      <td>143.0</td>\n",
       "      <td>Primary Colors</td>\n",
       "      <td>6.1</td>\n",
       "    </tr>\n",
       "    <tr>\n",
       "      <th>660</th>\n",
       "      <td>65000000</td>\n",
       "      <td>14.866901</td>\n",
       "      <td>2000-12-08</td>\n",
       "      <td>0</td>\n",
       "      <td>135.0</td>\n",
       "      <td>Proof of Life</td>\n",
       "      <td>6.0</td>\n",
       "    </tr>\n",
       "    <tr>\n",
       "      <th>665</th>\n",
       "      <td>65000000</td>\n",
       "      <td>2.952595</td>\n",
       "      <td>2000-10-27</td>\n",
       "      <td>0</td>\n",
       "      <td>105.0</td>\n",
       "      <td>Lucky Numbers</td>\n",
       "      <td>4.9</td>\n",
       "    </tr>\n",
       "    <tr>\n",
       "      <th>685</th>\n",
       "      <td>53000000</td>\n",
       "      <td>19.412028</td>\n",
       "      <td>2007-03-30</td>\n",
       "      <td>0</td>\n",
       "      <td>93.0</td>\n",
       "      <td>Blades of Glory</td>\n",
       "      <td>5.9</td>\n",
       "    </tr>\n",
       "    <tr>\n",
       "      <th>710</th>\n",
       "      <td>60000000</td>\n",
       "      <td>19.705489</td>\n",
       "      <td>2000-12-12</td>\n",
       "      <td>0</td>\n",
       "      <td>125.0</td>\n",
       "      <td>The Family Man</td>\n",
       "      <td>6.5</td>\n",
       "    </tr>\n",
       "    <tr>\n",
       "      <th>719</th>\n",
       "      <td>60000000</td>\n",
       "      <td>15.798622</td>\n",
       "      <td>2009-10-28</td>\n",
       "      <td>0</td>\n",
       "      <td>111.0</td>\n",
       "      <td>This Is It</td>\n",
       "      <td>6.7</td>\n",
       "    </tr>\n",
       "    <tr>\n",
       "      <th>733</th>\n",
       "      <td>60000000</td>\n",
       "      <td>4.801849</td>\n",
       "      <td>1996-03-01</td>\n",
       "      <td>0</td>\n",
       "      <td>119.0</td>\n",
       "      <td>Up Close &amp; Personal</td>\n",
       "      <td>5.9</td>\n",
       "    </tr>\n",
       "    <tr>\n",
       "      <th>762</th>\n",
       "      <td>60000000</td>\n",
       "      <td>18.877795</td>\n",
       "      <td>1998-04-03</td>\n",
       "      <td>0</td>\n",
       "      <td>111.0</td>\n",
       "      <td>Mercury Rising</td>\n",
       "      <td>6.0</td>\n",
       "    </tr>\n",
       "    <tr>\n",
       "      <th>780</th>\n",
       "      <td>80000000</td>\n",
       "      <td>14.298297</td>\n",
       "      <td>1999-03-26</td>\n",
       "      <td>0</td>\n",
       "      <td>122.0</td>\n",
       "      <td>Edtv</td>\n",
       "      <td>5.7</td>\n",
       "    </tr>\n",
       "    <tr>\n",
       "      <th>784</th>\n",
       "      <td>60000000</td>\n",
       "      <td>15.406173</td>\n",
       "      <td>2007-11-29</td>\n",
       "      <td>0</td>\n",
       "      <td>127.0</td>\n",
       "      <td>In the Name of the King: A Dungeon Siege Tale</td>\n",
       "      <td>4.1</td>\n",
       "    </tr>\n",
       "    <tr>\n",
       "      <th>785</th>\n",
       "      <td>35000000</td>\n",
       "      <td>6.523472</td>\n",
       "      <td>2003-10-23</td>\n",
       "      <td>0</td>\n",
       "      <td>127.0</td>\n",
       "      <td>Beyond Borders</td>\n",
       "      <td>6.7</td>\n",
       "    </tr>\n",
       "    <tr>\n",
       "      <th>789</th>\n",
       "      <td>60000000</td>\n",
       "      <td>9.265672</td>\n",
       "      <td>1998-10-08</td>\n",
       "      <td>0</td>\n",
       "      <td>114.0</td>\n",
       "      <td>Holy Man</td>\n",
       "      <td>4.9</td>\n",
       "    </tr>\n",
       "    <tr>\n",
       "      <th>796</th>\n",
       "      <td>60000000</td>\n",
       "      <td>19.694695</td>\n",
       "      <td>2015-12-11</td>\n",
       "      <td>0</td>\n",
       "      <td>119.0</td>\n",
       "      <td>The Ridiculous 6</td>\n",
       "      <td>4.9</td>\n",
       "    </tr>\n",
       "    <tr>\n",
       "      <th>816</th>\n",
       "      <td>55000000</td>\n",
       "      <td>22.573237</td>\n",
       "      <td>1997-07-15</td>\n",
       "      <td>0</td>\n",
       "      <td>92.0</td>\n",
       "      <td>George of the Jungle</td>\n",
       "      <td>5.4</td>\n",
       "    </tr>\n",
       "    <tr>\n",
       "      <th>829</th>\n",
       "      <td>55000000</td>\n",
       "      <td>13.191829</td>\n",
       "      <td>1999-08-12</td>\n",
       "      <td>0</td>\n",
       "      <td>97.0</td>\n",
       "      <td>Bowfinger</td>\n",
       "      <td>6.0</td>\n",
       "    </tr>\n",
       "    <tr>\n",
       "      <th>845</th>\n",
       "      <td>80000000</td>\n",
       "      <td>7.386394</td>\n",
       "      <td>1999-06-04</td>\n",
       "      <td>0</td>\n",
       "      <td>126.0</td>\n",
       "      <td>Instinct</td>\n",
       "      <td>6.2</td>\n",
       "    </tr>\n",
       "    <tr>\n",
       "      <th>857</th>\n",
       "      <td>55000000</td>\n",
       "      <td>12.340384</td>\n",
       "      <td>2009-06-19</td>\n",
       "      <td>0</td>\n",
       "      <td>107.0</td>\n",
       "      <td>Imagine That</td>\n",
       "      <td>5.7</td>\n",
       "    </tr>\n",
       "    <tr>\n",
       "      <th>861</th>\n",
       "      <td>47000000</td>\n",
       "      <td>23.054510</td>\n",
       "      <td>2004-10-26</td>\n",
       "      <td>0</td>\n",
       "      <td>133.0</td>\n",
       "      <td>A Very Long Engagement</td>\n",
       "      <td>7.1</td>\n",
       "    </tr>\n",
       "    <tr>\n",
       "      <th>894</th>\n",
       "      <td>52000000</td>\n",
       "      <td>15.207070</td>\n",
       "      <td>2003-03-28</td>\n",
       "      <td>0</td>\n",
       "      <td>104.0</td>\n",
       "      <td>Bulletproof Monk</td>\n",
       "      <td>5.1</td>\n",
       "    </tr>\n",
       "    <tr>\n",
       "      <th>...</th>\n",
       "      <td>...</td>\n",
       "      <td>...</td>\n",
       "      <td>...</td>\n",
       "      <td>...</td>\n",
       "      <td>...</td>\n",
       "      <td>...</td>\n",
       "      <td>...</td>\n",
       "    </tr>\n",
       "    <tr>\n",
       "      <th>4613</th>\n",
       "      <td>200000</td>\n",
       "      <td>0.713906</td>\n",
       "      <td>2008-05-22</td>\n",
       "      <td>0</td>\n",
       "      <td>80.0</td>\n",
       "      <td>Wendy and Lucy</td>\n",
       "      <td>6.4</td>\n",
       "    </tr>\n",
       "    <tr>\n",
       "      <th>4615</th>\n",
       "      <td>300000</td>\n",
       "      <td>7.791898</td>\n",
       "      <td>1965-08-29</td>\n",
       "      <td>0</td>\n",
       "      <td>110.0</td>\n",
       "      <td>Pierrot le Fou</td>\n",
       "      <td>7.6</td>\n",
       "    </tr>\n",
       "    <tr>\n",
       "      <th>4626</th>\n",
       "      <td>300000</td>\n",
       "      <td>0.006323</td>\n",
       "      <td>2010-05-20</td>\n",
       "      <td>0</td>\n",
       "      <td>98.0</td>\n",
       "      <td>Anderson's Cross</td>\n",
       "      <td>0.0</td>\n",
       "    </tr>\n",
       "    <tr>\n",
       "      <th>4629</th>\n",
       "      <td>300000</td>\n",
       "      <td>2.733725</td>\n",
       "      <td>2011-04-14</td>\n",
       "      <td>0</td>\n",
       "      <td>97.0</td>\n",
       "      <td>Some Guy Who Kills People</td>\n",
       "      <td>5.7</td>\n",
       "    </tr>\n",
       "    <tr>\n",
       "      <th>4637</th>\n",
       "      <td>250000</td>\n",
       "      <td>0.126304</td>\n",
       "      <td>2001-01-01</td>\n",
       "      <td>0</td>\n",
       "      <td>100.0</td>\n",
       "      <td>American Desi</td>\n",
       "      <td>5.0</td>\n",
       "    </tr>\n",
       "    <tr>\n",
       "      <th>4638</th>\n",
       "      <td>300000</td>\n",
       "      <td>0.018087</td>\n",
       "      <td>2014-12-01</td>\n",
       "      <td>0</td>\n",
       "      <td>90.0</td>\n",
       "      <td>Amidst the Devil's Wings</td>\n",
       "      <td>0.0</td>\n",
       "    </tr>\n",
       "    <tr>\n",
       "      <th>4651</th>\n",
       "      <td>250000</td>\n",
       "      <td>0.130169</td>\n",
       "      <td>1997-06-06</td>\n",
       "      <td>0</td>\n",
       "      <td>90.0</td>\n",
       "      <td>The Sticky Fingers of Time</td>\n",
       "      <td>4.8</td>\n",
       "    </tr>\n",
       "    <tr>\n",
       "      <th>4654</th>\n",
       "      <td>250000</td>\n",
       "      <td>5.217002</td>\n",
       "      <td>2009-01-23</td>\n",
       "      <td>0</td>\n",
       "      <td>106.0</td>\n",
       "      <td>Ink</td>\n",
       "      <td>6.4</td>\n",
       "    </tr>\n",
       "    <tr>\n",
       "      <th>4655</th>\n",
       "      <td>250000</td>\n",
       "      <td>0.065103</td>\n",
       "      <td>2010-11-28</td>\n",
       "      <td>0</td>\n",
       "      <td>96.0</td>\n",
       "      <td>The Christmas Bunny</td>\n",
       "      <td>5.7</td>\n",
       "    </tr>\n",
       "    <tr>\n",
       "      <th>4663</th>\n",
       "      <td>250</td>\n",
       "      <td>0.166655</td>\n",
       "      <td>2013-02-28</td>\n",
       "      <td>0</td>\n",
       "      <td>118.0</td>\n",
       "      <td>Along the Roadside</td>\n",
       "      <td>7.7</td>\n",
       "    </tr>\n",
       "    <tr>\n",
       "      <th>4678</th>\n",
       "      <td>200000</td>\n",
       "      <td>0.061040</td>\n",
       "      <td>2002-01-14</td>\n",
       "      <td>0</td>\n",
       "      <td>103.0</td>\n",
       "      <td>The Business of Fancydancing</td>\n",
       "      <td>8.0</td>\n",
       "    </tr>\n",
       "    <tr>\n",
       "      <th>4680</th>\n",
       "      <td>450000</td>\n",
       "      <td>1.077321</td>\n",
       "      <td>2004-09-10</td>\n",
       "      <td>0</td>\n",
       "      <td>90.0</td>\n",
       "      <td>Malevolence</td>\n",
       "      <td>4.9</td>\n",
       "    </tr>\n",
       "    <tr>\n",
       "      <th>4682</th>\n",
       "      <td>13000000</td>\n",
       "      <td>4.009379</td>\n",
       "      <td>2010-01-01</td>\n",
       "      <td>0</td>\n",
       "      <td>95.0</td>\n",
       "      <td>Super Hybrid</td>\n",
       "      <td>4.6</td>\n",
       "    </tr>\n",
       "    <tr>\n",
       "      <th>4702</th>\n",
       "      <td>200</td>\n",
       "      <td>0.050978</td>\n",
       "      <td>2014-07-13</td>\n",
       "      <td>0</td>\n",
       "      <td>109.0</td>\n",
       "      <td>Perfect Cowboy</td>\n",
       "      <td>5.0</td>\n",
       "    </tr>\n",
       "    <tr>\n",
       "      <th>4718</th>\n",
       "      <td>120000</td>\n",
       "      <td>2.213889</td>\n",
       "      <td>2007-03-03</td>\n",
       "      <td>0</td>\n",
       "      <td>88.0</td>\n",
       "      <td>A Dog's Breakfast</td>\n",
       "      <td>5.9</td>\n",
       "    </tr>\n",
       "    <tr>\n",
       "      <th>4719</th>\n",
       "      <td>120000</td>\n",
       "      <td>1.112792</td>\n",
       "      <td>1964-12-04</td>\n",
       "      <td>0</td>\n",
       "      <td>95.0</td>\n",
       "      <td>The Married Woman</td>\n",
       "      <td>7.1</td>\n",
       "    </tr>\n",
       "    <tr>\n",
       "      <th>4736</th>\n",
       "      <td>100</td>\n",
       "      <td>0.394575</td>\n",
       "      <td>2014-06-15</td>\n",
       "      <td>0</td>\n",
       "      <td>77.0</td>\n",
       "      <td>The Past Is a Grotesque Animal</td>\n",
       "      <td>5.5</td>\n",
       "    </tr>\n",
       "    <tr>\n",
       "      <th>4741</th>\n",
       "      <td>75000</td>\n",
       "      <td>0.140989</td>\n",
       "      <td>2015-09-29</td>\n",
       "      <td>0</td>\n",
       "      <td>90.0</td>\n",
       "      <td>Queen Crab</td>\n",
       "      <td>3.3</td>\n",
       "    </tr>\n",
       "    <tr>\n",
       "      <th>4745</th>\n",
       "      <td>62000</td>\n",
       "      <td>2.407048</td>\n",
       "      <td>1962-02-25</td>\n",
       "      <td>0</td>\n",
       "      <td>82.0</td>\n",
       "      <td>The Brain That Wouldn't Die</td>\n",
       "      <td>4.4</td>\n",
       "    </tr>\n",
       "    <tr>\n",
       "      <th>4748</th>\n",
       "      <td>70000</td>\n",
       "      <td>6.328665</td>\n",
       "      <td>2011-03-03</td>\n",
       "      <td>0</td>\n",
       "      <td>92.0</td>\n",
       "      <td>Absentia</td>\n",
       "      <td>5.8</td>\n",
       "    </tr>\n",
       "    <tr>\n",
       "      <th>4753</th>\n",
       "      <td>60000</td>\n",
       "      <td>0.412342</td>\n",
       "      <td>2012-10-13</td>\n",
       "      <td>0</td>\n",
       "      <td>93.0</td>\n",
       "      <td>Hayride</td>\n",
       "      <td>5.1</td>\n",
       "    </tr>\n",
       "    <tr>\n",
       "      <th>4755</th>\n",
       "      <td>50000</td>\n",
       "      <td>0.293587</td>\n",
       "      <td>2015-02-09</td>\n",
       "      <td>0</td>\n",
       "      <td>111.0</td>\n",
       "      <td>Counting</td>\n",
       "      <td>8.3</td>\n",
       "    </tr>\n",
       "    <tr>\n",
       "      <th>4756</th>\n",
       "      <td>50000</td>\n",
       "      <td>1.777148</td>\n",
       "      <td>2005-01-01</td>\n",
       "      <td>0</td>\n",
       "      <td>47.0</td>\n",
       "      <td>The Call of Cthulhu</td>\n",
       "      <td>6.9</td>\n",
       "    </tr>\n",
       "    <tr>\n",
       "      <th>4759</th>\n",
       "      <td>50000</td>\n",
       "      <td>0.545620</td>\n",
       "      <td>2013-11-21</td>\n",
       "      <td>0</td>\n",
       "      <td>81.0</td>\n",
       "      <td>The Image Revolution</td>\n",
       "      <td>5.7</td>\n",
       "    </tr>\n",
       "    <tr>\n",
       "      <th>4767</th>\n",
       "      <td>50000</td>\n",
       "      <td>0.595809</td>\n",
       "      <td>2015-09-01</td>\n",
       "      <td>0</td>\n",
       "      <td>75.0</td>\n",
       "      <td>Run, Hide, Die</td>\n",
       "      <td>3.5</td>\n",
       "    </tr>\n",
       "    <tr>\n",
       "      <th>4770</th>\n",
       "      <td>500000</td>\n",
       "      <td>0.123068</td>\n",
       "      <td>2005-03-01</td>\n",
       "      <td>0</td>\n",
       "      <td>109.0</td>\n",
       "      <td>Mutual Appreciation</td>\n",
       "      <td>6.1</td>\n",
       "    </tr>\n",
       "    <tr>\n",
       "      <th>4774</th>\n",
       "      <td>27000</td>\n",
       "      <td>0.027811</td>\n",
       "      <td>1971-01-01</td>\n",
       "      <td>0</td>\n",
       "      <td>64.0</td>\n",
       "      <td>Pink Narcissus</td>\n",
       "      <td>6.0</td>\n",
       "    </tr>\n",
       "    <tr>\n",
       "      <th>4781</th>\n",
       "      <td>22000</td>\n",
       "      <td>0.048948</td>\n",
       "      <td>2013-02-14</td>\n",
       "      <td>0</td>\n",
       "      <td>90.0</td>\n",
       "      <td>Dry Spell</td>\n",
       "      <td>6.0</td>\n",
       "    </tr>\n",
       "    <tr>\n",
       "      <th>4791</th>\n",
       "      <td>13</td>\n",
       "      <td>0.332679</td>\n",
       "      <td>2007-01-01</td>\n",
       "      <td>0</td>\n",
       "      <td>84.0</td>\n",
       "      <td>Tin Can Man</td>\n",
       "      <td>2.0</td>\n",
       "    </tr>\n",
       "    <tr>\n",
       "      <th>4799</th>\n",
       "      <td>9000</td>\n",
       "      <td>0.642552</td>\n",
       "      <td>2011-12-26</td>\n",
       "      <td>0</td>\n",
       "      <td>85.0</td>\n",
       "      <td>Newlyweds</td>\n",
       "      <td>5.9</td>\n",
       "    </tr>\n",
       "  </tbody>\n",
       "</table>\n",
       "<p>531 rows × 7 columns</p>\n",
       "</div>"
      ],
      "text/plain": [
       "         budget  popularity release_date  revenue  runtime  \\\n",
       "83     27000000    2.418535   2015-02-13        0    109.0   \n",
       "135   150000000   21.214571   2010-02-11        0    102.0   \n",
       "309    84000000   17.815595   2005-02-18        0     94.0   \n",
       "376    90000000   19.836124   1997-04-25        0    104.0   \n",
       "433    84000000   44.343330   2013-07-18        0    116.0   \n",
       "467    90000000    6.643778   1998-12-25        0    114.0   \n",
       "471    85000000   18.335992   2000-11-10        0     90.0   \n",
       "492     8000000    0.719996   2015-10-30        0     89.0   \n",
       "518    75000000   17.561955   1999-07-23        0     78.0   \n",
       "536    75000000   13.327372   1999-12-16        0    148.0   \n",
       "648    65000000   19.718544   2003-12-19        0    117.0   \n",
       "656    65000000    9.110247   1998-03-20        0    143.0   \n",
       "660    65000000   14.866901   2000-12-08        0    135.0   \n",
       "665    65000000    2.952595   2000-10-27        0    105.0   \n",
       "685    53000000   19.412028   2007-03-30        0     93.0   \n",
       "710    60000000   19.705489   2000-12-12        0    125.0   \n",
       "719    60000000   15.798622   2009-10-28        0    111.0   \n",
       "733    60000000    4.801849   1996-03-01        0    119.0   \n",
       "762    60000000   18.877795   1998-04-03        0    111.0   \n",
       "780    80000000   14.298297   1999-03-26        0    122.0   \n",
       "784    60000000   15.406173   2007-11-29        0    127.0   \n",
       "785    35000000    6.523472   2003-10-23        0    127.0   \n",
       "789    60000000    9.265672   1998-10-08        0    114.0   \n",
       "796    60000000   19.694695   2015-12-11        0    119.0   \n",
       "816    55000000   22.573237   1997-07-15        0     92.0   \n",
       "829    55000000   13.191829   1999-08-12        0     97.0   \n",
       "845    80000000    7.386394   1999-06-04        0    126.0   \n",
       "857    55000000   12.340384   2009-06-19        0    107.0   \n",
       "861    47000000   23.054510   2004-10-26        0    133.0   \n",
       "894    52000000   15.207070   2003-03-28        0    104.0   \n",
       "...         ...         ...          ...      ...      ...   \n",
       "4613     200000    0.713906   2008-05-22        0     80.0   \n",
       "4615     300000    7.791898   1965-08-29        0    110.0   \n",
       "4626     300000    0.006323   2010-05-20        0     98.0   \n",
       "4629     300000    2.733725   2011-04-14        0     97.0   \n",
       "4637     250000    0.126304   2001-01-01        0    100.0   \n",
       "4638     300000    0.018087   2014-12-01        0     90.0   \n",
       "4651     250000    0.130169   1997-06-06        0     90.0   \n",
       "4654     250000    5.217002   2009-01-23        0    106.0   \n",
       "4655     250000    0.065103   2010-11-28        0     96.0   \n",
       "4663        250    0.166655   2013-02-28        0    118.0   \n",
       "4678     200000    0.061040   2002-01-14        0    103.0   \n",
       "4680     450000    1.077321   2004-09-10        0     90.0   \n",
       "4682   13000000    4.009379   2010-01-01        0     95.0   \n",
       "4702        200    0.050978   2014-07-13        0    109.0   \n",
       "4718     120000    2.213889   2007-03-03        0     88.0   \n",
       "4719     120000    1.112792   1964-12-04        0     95.0   \n",
       "4736        100    0.394575   2014-06-15        0     77.0   \n",
       "4741      75000    0.140989   2015-09-29        0     90.0   \n",
       "4745      62000    2.407048   1962-02-25        0     82.0   \n",
       "4748      70000    6.328665   2011-03-03        0     92.0   \n",
       "4753      60000    0.412342   2012-10-13        0     93.0   \n",
       "4755      50000    0.293587   2015-02-09        0    111.0   \n",
       "4756      50000    1.777148   2005-01-01        0     47.0   \n",
       "4759      50000    0.545620   2013-11-21        0     81.0   \n",
       "4767      50000    0.595809   2015-09-01        0     75.0   \n",
       "4770     500000    0.123068   2005-03-01        0    109.0   \n",
       "4774      27000    0.027811   1971-01-01        0     64.0   \n",
       "4781      22000    0.048948   2013-02-14        0     90.0   \n",
       "4791         13    0.332679   2007-01-01        0     84.0   \n",
       "4799       9000    0.642552   2011-12-26        0     85.0   \n",
       "\n",
       "                                              title  vote_average  \n",
       "83                                       The Lovers           4.8  \n",
       "135                                     The Wolfman           5.5  \n",
       "309                                 Son of the Mask           3.6  \n",
       "376                                         Volcano           5.2  \n",
       "433                                           RED 2           6.4  \n",
       "467                                Mighty Joe Young           5.9  \n",
       "471                                    Little Nicky           5.2  \n",
       "492                                  Top Cat Begins           5.3  \n",
       "518                                Inspector Gadget           4.3  \n",
       "536                               Anna and the King           6.4  \n",
       "648                                 Mona Lisa Smile           6.5  \n",
       "656                                  Primary Colors           6.1  \n",
       "660                                   Proof of Life           6.0  \n",
       "665                                   Lucky Numbers           4.9  \n",
       "685                                 Blades of Glory           5.9  \n",
       "710                                  The Family Man           6.5  \n",
       "719                                      This Is It           6.7  \n",
       "733                             Up Close & Personal           5.9  \n",
       "762                                  Mercury Rising           6.0  \n",
       "780                                            Edtv           5.7  \n",
       "784   In the Name of the King: A Dungeon Siege Tale           4.1  \n",
       "785                                  Beyond Borders           6.7  \n",
       "789                                        Holy Man           4.9  \n",
       "796                                The Ridiculous 6           4.9  \n",
       "816                            George of the Jungle           5.4  \n",
       "829                                       Bowfinger           6.0  \n",
       "845                                        Instinct           6.2  \n",
       "857                                    Imagine That           5.7  \n",
       "861                          A Very Long Engagement           7.1  \n",
       "894                                Bulletproof Monk           5.1  \n",
       "...                                             ...           ...  \n",
       "4613                                 Wendy and Lucy           6.4  \n",
       "4615                                 Pierrot le Fou           7.6  \n",
       "4626                               Anderson's Cross           0.0  \n",
       "4629                      Some Guy Who Kills People           5.7  \n",
       "4637                                  American Desi           5.0  \n",
       "4638                       Amidst the Devil's Wings           0.0  \n",
       "4651                     The Sticky Fingers of Time           4.8  \n",
       "4654                                            Ink           6.4  \n",
       "4655                            The Christmas Bunny           5.7  \n",
       "4663                             Along the Roadside           7.7  \n",
       "4678                   The Business of Fancydancing           8.0  \n",
       "4680                                    Malevolence           4.9  \n",
       "4682                                   Super Hybrid           4.6  \n",
       "4702                                 Perfect Cowboy           5.0  \n",
       "4718                              A Dog's Breakfast           5.9  \n",
       "4719                              The Married Woman           7.1  \n",
       "4736                 The Past Is a Grotesque Animal           5.5  \n",
       "4741                                     Queen Crab           3.3  \n",
       "4745                    The Brain That Wouldn't Die           4.4  \n",
       "4748                                       Absentia           5.8  \n",
       "4753                                        Hayride           5.1  \n",
       "4755                                       Counting           8.3  \n",
       "4756                            The Call of Cthulhu           6.9  \n",
       "4759                           The Image Revolution           5.7  \n",
       "4767                                 Run, Hide, Die           3.5  \n",
       "4770                            Mutual Appreciation           6.1  \n",
       "4774                                 Pink Narcissus           6.0  \n",
       "4781                                      Dry Spell           6.0  \n",
       "4791                                    Tin Can Man           2.0  \n",
       "4799                                      Newlyweds           5.9  \n",
       "\n",
       "[531 rows x 7 columns]"
      ]
     },
     "execution_count": 18,
     "metadata": {},
     "output_type": "execute_result"
    }
   ],
   "source": [
    "#Check movies with zero revenue.\n",
    "zero_revenue = df.query(\"revenue <= 0\")\n",
    "zero_revenue"
   ]
  },
  {
   "cell_type": "code",
   "execution_count": 19,
   "metadata": {},
   "outputs": [
    {
     "data": {
      "text/plain": [
       "(3228, 7)"
      ]
     },
     "execution_count": 19,
     "metadata": {},
     "output_type": "execute_result"
    }
   ],
   "source": [
    "# Remove movies with zero revenew\n",
    "df = df[df.revenue > 0]\n",
    "df.shape"
   ]
  },
  {
   "cell_type": "code",
   "execution_count": 20,
   "metadata": {},
   "outputs": [
    {
     "data": {
      "text/html": [
       "<div>\n",
       "<style scoped>\n",
       "    .dataframe tbody tr th:only-of-type {\n",
       "        vertical-align: middle;\n",
       "    }\n",
       "\n",
       "    .dataframe tbody tr th {\n",
       "        vertical-align: top;\n",
       "    }\n",
       "\n",
       "    .dataframe thead th {\n",
       "        text-align: right;\n",
       "    }\n",
       "</style>\n",
       "<table border=\"1\" class=\"dataframe\">\n",
       "  <thead>\n",
       "    <tr style=\"text-align: right;\">\n",
       "      <th></th>\n",
       "      <th>budget</th>\n",
       "      <th>popularity</th>\n",
       "      <th>release_date</th>\n",
       "      <th>revenue</th>\n",
       "      <th>runtime</th>\n",
       "      <th>title</th>\n",
       "      <th>vote_average</th>\n",
       "    </tr>\n",
       "  </thead>\n",
       "  <tbody>\n",
       "    <tr>\n",
       "      <th>0</th>\n",
       "      <td>237000000</td>\n",
       "      <td>150.437577</td>\n",
       "      <td>2009-12-10</td>\n",
       "      <td>2787965087</td>\n",
       "      <td>162.0</td>\n",
       "      <td>Avatar</td>\n",
       "      <td>7.2</td>\n",
       "    </tr>\n",
       "    <tr>\n",
       "      <th>1</th>\n",
       "      <td>300000000</td>\n",
       "      <td>139.082615</td>\n",
       "      <td>2007-05-19</td>\n",
       "      <td>961000000</td>\n",
       "      <td>169.0</td>\n",
       "      <td>Pirates of the Caribbean: At World's End</td>\n",
       "      <td>6.9</td>\n",
       "    </tr>\n",
       "    <tr>\n",
       "      <th>2</th>\n",
       "      <td>245000000</td>\n",
       "      <td>107.376788</td>\n",
       "      <td>2015-10-26</td>\n",
       "      <td>880674609</td>\n",
       "      <td>148.0</td>\n",
       "      <td>Spectre</td>\n",
       "      <td>6.3</td>\n",
       "    </tr>\n",
       "    <tr>\n",
       "      <th>3</th>\n",
       "      <td>250000000</td>\n",
       "      <td>112.312950</td>\n",
       "      <td>2012-07-16</td>\n",
       "      <td>1084939099</td>\n",
       "      <td>165.0</td>\n",
       "      <td>The Dark Knight Rises</td>\n",
       "      <td>7.6</td>\n",
       "    </tr>\n",
       "    <tr>\n",
       "      <th>4</th>\n",
       "      <td>260000000</td>\n",
       "      <td>43.926995</td>\n",
       "      <td>2012-03-07</td>\n",
       "      <td>284139100</td>\n",
       "      <td>132.0</td>\n",
       "      <td>John Carter</td>\n",
       "      <td>6.1</td>\n",
       "    </tr>\n",
       "  </tbody>\n",
       "</table>\n",
       "</div>"
      ],
      "text/plain": [
       "      budget  popularity release_date     revenue  runtime  \\\n",
       "0  237000000  150.437577   2009-12-10  2787965087    162.0   \n",
       "1  300000000  139.082615   2007-05-19   961000000    169.0   \n",
       "2  245000000  107.376788   2015-10-26   880674609    148.0   \n",
       "3  250000000  112.312950   2012-07-16  1084939099    165.0   \n",
       "4  260000000   43.926995   2012-03-07   284139100    132.0   \n",
       "\n",
       "                                      title  vote_average  \n",
       "0                                    Avatar           7.2  \n",
       "1  Pirates of the Caribbean: At World's End           6.9  \n",
       "2                                   Spectre           6.3  \n",
       "3                     The Dark Knight Rises           7.6  \n",
       "4                               John Carter           6.1  "
      ]
     },
     "execution_count": 20,
     "metadata": {},
     "output_type": "execute_result"
    }
   ],
   "source": [
    "df.head()"
   ]
  },
  {
   "cell_type": "markdown",
   "metadata": {},
   "source": [
    "Finally we have 3228 movie records with appropriate data and we are ready to move further."
   ]
  },
  {
   "cell_type": "markdown",
   "metadata": {},
   "source": [
    "<a id='eda'></a>\n",
    "## Exploratory Data Analysis"
   ]
  },
  {
   "cell_type": "markdown",
   "metadata": {},
   "source": [
    "### Research Question 1  (Movies which had most and least profit in previous years.)\n"
   ]
  },
  {
   "cell_type": "markdown",
   "metadata": {},
   "source": [
    "#### Calculating the profit of the each movie\n"
   ]
  },
  {
   "cell_type": "code",
   "execution_count": 21,
   "metadata": {},
   "outputs": [
    {
     "data": {
      "text/plain": [
       "0    2550965087\n",
       "1     661000000\n",
       "2     635674609\n",
       "3     834939099\n",
       "4      24139100\n",
       "Name: profit, dtype: int64"
      ]
     },
     "execution_count": 21,
     "metadata": {},
     "output_type": "execute_result"
    }
   ],
   "source": [
    "# Calculating profit column. From now on it will be used.\n",
    "df['profit'] = df.revenue - df.budget\n",
    "df.profit.head()"
   ]
  },
  {
   "cell_type": "code",
   "execution_count": 22,
   "metadata": {},
   "outputs": [
    {
     "data": {
      "text/plain": [
       "budget                    237000000\n",
       "popularity                  150.438\n",
       "release_date    2009-12-10 00:00:00\n",
       "revenue                  2787965087\n",
       "runtime                         162\n",
       "title                        Avatar\n",
       "vote_average                    7.2\n",
       "profit                   2550965087\n",
       "Name: 0, dtype: object"
      ]
     },
     "execution_count": 22,
     "metadata": {},
     "output_type": "execute_result"
    }
   ],
   "source": [
    "# Movie had most high profit.\n",
    "\n",
    "df.loc[df['profit'].idxmax()]"
   ]
  },
  {
   "cell_type": "markdown",
   "metadata": {},
   "source": [
    "`Avatar` was the most profitable movie which earns 2550965087 $ profit and it was released in 2009."
   ]
  },
  {
   "cell_type": "code",
   "execution_count": 23,
   "metadata": {},
   "outputs": [
    {
     "data": {
      "text/plain": [
       "budget                    255000000\n",
       "popularity                   49.047\n",
       "release_date    2013-07-03 00:00:00\n",
       "revenue                    89289910\n",
       "runtime                         149\n",
       "title               The Lone Ranger\n",
       "vote_average                    5.9\n",
       "profit                   -165710090\n",
       "Name: 13, dtype: object"
      ]
     },
     "execution_count": 23,
     "metadata": {},
     "output_type": "execute_result"
    }
   ],
   "source": [
    "# Movie had lowest profit.\n",
    "\n",
    "df.loc[df['profit'].idxmin()]"
   ]
  },
  {
   "cell_type": "markdown",
   "metadata": {},
   "source": [
    "`The Lone Ranger` were the worst one which loss money after it's release. It can't even earn as they spent to made this movie."
   ]
  },
  {
   "cell_type": "markdown",
   "metadata": {},
   "source": [
    "### Research Question 2  - Average Profit Movies made each year. \n"
   ]
  },
  {
   "cell_type": "code",
   "execution_count": 24,
   "metadata": {},
   "outputs": [
    {
     "data": {
      "image/png": "[encoded data removed]",
      "text/plain": [
       "<matplotlib.figure.Figure at 0x7fe2947b6668>"
      ]
     },
     "metadata": {
      "needs_background": "light"
     },
     "output_type": "display_data"
    }
   ],
   "source": [
    "# We will try to draw line graph for this.\n",
    "# becouse we want the profit for all the years so we will group it with release date.\n",
    "\n",
    "profits_by_year = df.groupby('release_date')['profit'].mean()\n",
    "\n",
    "# setting the figure size(width, height)\n",
    "plt.figure(figsize=(9,5), dpi = 200)\n",
    "\n",
    "# labeling x-axis\n",
    "plt.xlabel('Release Year of Movies', fontsize = 12)\n",
    "# labeling y-axis\n",
    "plt.ylabel('Total Profits made by Movies', fontsize = 12)\n",
    "# title of a the plot\n",
    "plt.title('Calculating Total Profits made by all movies in year which it released.')\n",
    "\n",
    "#plotting what needs to be plotted\n",
    "plt.plot(profits_by_year)\n",
    "\n",
    "#showing the plot\n",
    "plt.show()"
   ]
  },
  {
   "cell_type": "code",
   "execution_count": 25,
   "metadata": {},
   "outputs": [
    {
     "data": {
      "text/plain": [
       "count    3.228000e+03\n",
       "mean     8.061384e+07\n",
       "std      1.581659e+08\n",
       "min     -1.657101e+08\n",
       "25%      2.355852e+05\n",
       "50%      2.617376e+07\n",
       "75%      9.749217e+07\n",
       "max      2.550965e+09\n",
       "Name: profit, dtype: float64"
      ]
     },
     "execution_count": 25,
     "metadata": {},
     "output_type": "execute_result"
    }
   ],
   "source": [
    "df[\"profit\"].describe()"
   ]
  },
  {
   "cell_type": "markdown",
   "metadata": {},
   "source": [
    "### Research Question 3  - Movies with largest and lowest budget in previous years.\n"
   ]
  },
  {
   "cell_type": "code",
   "execution_count": 26,
   "metadata": {},
   "outputs": [
    {
     "data": {
      "text/plain": [
       "budget                                            380000000\n",
       "popularity                                          135.414\n",
       "release_date                            2011-05-14 00:00:00\n",
       "revenue                                          1045713802\n",
       "runtime                                                 136\n",
       "title           Pirates of the Caribbean: On Stranger Tides\n",
       "vote_average                                            6.4\n",
       "profit                                            665713802\n",
       "Name: 17, dtype: object"
      ]
     },
     "execution_count": 26,
     "metadata": {},
     "output_type": "execute_result"
    }
   ],
   "source": [
    "# Movie had most high budget.\n",
    "df.loc[df['budget'].idxmax()]"
   ]
  },
  {
   "cell_type": "code",
   "execution_count": 27,
   "metadata": {},
   "outputs": [
    {
     "data": {
      "text/plain": [
       "budget                            1\n",
       "popularity                  28.2765\n",
       "release_date    1936-02-05 00:00:00\n",
       "revenue                     8500000\n",
       "runtime                          87\n",
       "title                  Modern Times\n",
       "vote_average                    8.1\n",
       "profit                      8499999\n",
       "Name: 4238, dtype: object"
      ]
     },
     "execution_count": 27,
     "metadata": {},
     "output_type": "execute_result"
    }
   ],
   "source": [
    "# Movie had lowest budget.\n",
    "\n",
    "df.loc[df['budget'].idxmin()]"
   ]
  },
  {
   "cell_type": "markdown",
   "metadata": {},
   "source": [
    "### Research Question 4 - What was the Average Votes (Rating) for all the movies?"
   ]
  },
  {
   "cell_type": "code",
   "execution_count": 28,
   "metadata": {},
   "outputs": [
    {
     "data": {
      "text/plain": [
       "6.3096654275092936"
      ]
     },
     "execution_count": 28,
     "metadata": {},
     "output_type": "execute_result"
    }
   ],
   "source": [
    "# Calculate Average Rating for Movies.\n",
    "df['vote_average'].mean()"
   ]
  },
  {
   "cell_type": "code",
   "execution_count": 29,
   "metadata": {},
   "outputs": [
    {
     "data": {
      "image/png": "[encoded data removed]",
      "text/plain": [
       "<matplotlib.figure.Figure at 0x7fe294e80278>"
      ]
     },
     "metadata": {
      "needs_background": "light"
     },
     "output_type": "display_data"
    }
   ],
   "source": [
    "#Show Rating in Histogram\n",
    "df.vote_average.plot(kind= \"hist\",\n",
    "                     color='crimson',\n",
    "                     bins=120,\n",
    "                     grid=True,\n",
    "                     figsize= (10,10)\n",
    "                    )\n",
    "plt.title('Histogram For Average Rating')\n",
    "plt.xlabel('vote_avarage')\n",
    "plt.show()"
   ]
  },
  {
   "cell_type": "markdown",
   "metadata": {},
   "source": [
    "It can be seen that the average rating for movies were 6 to 7."
   ]
  },
  {
   "cell_type": "markdown",
   "metadata": {},
   "source": [
    "### Research Question 5 - list of movies with longest and shortest duration.\n"
   ]
  },
  {
   "cell_type": "code",
   "execution_count": 30,
   "metadata": {},
   "outputs": [
    {
     "data": {
      "text/plain": [
       "budget                     18000000\n",
       "popularity                  1.13838\n",
       "release_date    2010-05-19 00:00:00\n",
       "revenue                      871279\n",
       "runtime                         338\n",
       "title                        Carlos\n",
       "vote_average                    6.7\n",
       "profit                    -17128721\n",
       "Name: 2384, dtype: object"
      ]
     },
     "execution_count": 30,
     "metadata": {},
     "output_type": "execute_result"
    }
   ],
   "source": [
    "# Movie with longest duration.\n",
    "df.loc[df['runtime'].idxmax()]"
   ]
  },
  {
   "cell_type": "code",
   "execution_count": 31,
   "metadata": {},
   "outputs": [
    {
     "data": {
      "text/plain": [
       "budget                                             5000000\n",
       "popularity                                         4.49837\n",
       "release_date                           2010-05-14 00:00:00\n",
       "revenue                                            4074023\n",
       "runtime                                                 41\n",
       "title           Sea Rex 3D: Journey to a Prehistoric World\n",
       "vote_average                                           5.9\n",
       "profit                                             -925977\n",
       "Name: 3626, dtype: object"
      ]
     },
     "execution_count": 31,
     "metadata": {},
     "output_type": "execute_result"
    }
   ],
   "source": [
    "# Movie with shortest duration.\n",
    "\n",
    "df.loc[df['runtime'].idxmin()]"
   ]
  },
  {
   "cell_type": "markdown",
   "metadata": {},
   "source": [
    "#### Average Runtime (duration on a movie)"
   ]
  },
  {
   "cell_type": "markdown",
   "metadata": {},
   "source": [
    "### Research Question 6  - Average run time of a all movie in past years.\n"
   ]
  },
  {
   "cell_type": "code",
   "execution_count": 32,
   "metadata": {},
   "outputs": [
    {
     "data": {
      "text/plain": [
       "110.72490706319702"
      ]
     },
     "execution_count": 32,
     "metadata": {},
     "output_type": "execute_result"
    }
   ],
   "source": [
    "# Calculate Average Run Time of Movie\n",
    "df.runtime.mean()"
   ]
  },
  {
   "cell_type": "markdown",
   "metadata": {},
   "source": [
    "It can be seen that the Average Run time for most of the movies is 110.72."
   ]
  },
  {
   "cell_type": "code",
   "execution_count": 33,
   "metadata": {},
   "outputs": [
    {
     "data": {
      "image/png": "[encoded data removed]",
      "text/plain": [
       "<matplotlib.figure.Figure at 0x7fe294dca518>"
      ]
     },
     "metadata": {
      "needs_background": "light"
     },
     "output_type": "display_data"
    }
   ],
   "source": [
    "#plotting a histogram to show runtime of movies.\n",
    "\n",
    "# setting the figure size(width, height)\n",
    "plt.figure(figsize=(9,5), dpi = 100)\n",
    "\n",
    "# setting the Name of the graph\n",
    "plt.title('Duration for all movies', fontsize=15)\n",
    "\n",
    "# setting x-axis \n",
    "plt.xlabel('Duration', fontsize = 10)\n",
    "# setting y-axis \n",
    "plt.ylabel('Nnumber of Movies', fontsize=10)\n",
    "\n",
    "# setting a histogram plot\n",
    "plt.hist(df['runtime'], rwidth = 0.9, bins =30)\n",
    "#Now Displaying the plot\n",
    "plt.show()"
   ]
  },
  {
   "cell_type": "markdown",
   "metadata": {},
   "source": [
    "We can easily say the the average movie duration was 100 - 110."
   ]
  },
  {
   "cell_type": "markdown",
   "metadata": {},
   "source": [
    "###  Research Question 7 - Draw List of Top 10 Popular movies"
   ]
  },
  {
   "cell_type": "code",
   "execution_count": 34,
   "metadata": {},
   "outputs": [
    {
     "data": {
      "text/plain": [
       "Text(0.5,1,'Popular Movies')"
      ]
     },
     "execution_count": 34,
     "metadata": {},
     "output_type": "execute_result"
    },
    {
     "data": {
      "image/png": "[encoded data removed]",
      "text/plain": [
       "<matplotlib.figure.Figure at 0x7fe294c6ccf8>"
      ]
     },
     "metadata": {
      "needs_background": "light"
     },
     "output_type": "display_data"
    }
   ],
   "source": [
    "# Get list of top 10 popular movies by sorting in a descending order.\n",
    "pop= df.sort_values('popularity', ascending=False)\n",
    "\n",
    "plt.figure(figsize=(15,6))\n",
    "plt.barh(pop['title'].head(10),\n",
    "         pop['popularity'].head(10),\n",
    "         color='green'\n",
    "        )\n",
    "plt.gca()\n",
    "plt.xlabel(\"Popularity\", fontsize = 15)\n",
    "plt.title(\"Popular Movies\", fontsize = 15)"
   ]
  },
  {
   "cell_type": "markdown",
   "metadata": {},
   "source": [
    "It above calculated bar graph showed that the most popular movie was \"Minions\" from current historical data."
   ]
  },
  {
   "cell_type": "markdown",
   "metadata": {},
   "source": [
    "<a id='conclusions'></a>\n",
    "## Conclusions\n",
    "\n",
    " > `Avatar` was the most profitable movie which earned 2550965087 dollar profit and it was released in 2009.\n",
    " The Lone Ranger were the worst one which loss money after it's release. It can't even earned as they spent to made this movie. The most spending were on `Pirates of the Caribbean: On Stranger Tides` which earned 665713802 dollar and it was released in 2011. People give 6 average voting to movies in the past and the longgest movie was `338` minutes long. Moreover, it is noted that the average movie dutation is between `100` and `110`minutes long. Lastly, `Minions` was the most popular movie in given historical data.\n"
   ]
  },
  {
   "cell_type": "markdown",
   "metadata": {},
   "source": [
    "**Limitations**: This report could be improve in more effecient ways. These results are not 100% accurate. I try to do my best to genrate a genral idea by getting insights from movies historical data."
   ]
  },
  {
   "cell_type": "code",
   "execution_count": 37,
   "metadata": {},
   "outputs": [
    {
     "data": {
      "text/plain": [
       "0"
      ]
     },
     "execution_count": 37,
     "metadata": {},
     "output_type": "execute_result"
    }
   ],
   "source": [
    "from subprocess import call\n",
    "call(['python', '-m', 'nbconvert', 'Investigate_a_Dataset.ipynb'])"
   ]
  },
  {
   "cell_type": "code",
   "execution_count": null,
   "metadata": {},
   "outputs": [],
   "source": []
  }
 ],
 "metadata": {
  "kernelspec": {
   "display_name": "Python 3",
   "language": "python",
   "name": "python3"
  },
  "language_info": {
   "codemirror_mode": {
    "name": "ipython",
    "version": 3
   },
   "file_extension": ".py",
   "mimetype": "text/x-python",
   "name": "python",
   "nbconvert_exporter": "python",
   "pygments_lexer": "ipython3",
   "version": "3.6.3"
  }
 },
 "nbformat": 4,
 "nbformat_minor": 2
}
